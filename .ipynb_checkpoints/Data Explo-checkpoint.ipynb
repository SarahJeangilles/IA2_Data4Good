{
 "cells": [
  {
   "cell_type": "code",
   "execution_count": 1,
   "id": "extra-packaging",
   "metadata": {},
   "outputs": [],
   "source": [
    "import pandas as pd\n",
    "import seaborn as sns\n",
    "import matplotlib.pyplot as plt\n",
    "\n",
    "DATA_PATH = 'data/'\n",
    "\n",
    "data = pd.read_csv(DATA_PATH + 'p2-arbres-fr.csv', sep=';')"
   ]
  },
  {
   "cell_type": "markdown",
   "id": "french-works",
   "metadata": {},
   "source": [
    "# Nettoyage des données\n",
    "\n",
    "## Quelle variable pour l'espèce d'arbre ?"
   ]
  },
  {
   "cell_type": "code",
   "execution_count": 2,
   "id": "pleased-theory",
   "metadata": {},
   "outputs": [
    {
     "name": "stdout",
     "output_type": "stream",
     "text": [
      "La variable 'genre' a 16 valeurs manquantes pour (176,) valeurs uniques.\n",
      "La variable 'espece' a 1752 valeurs manquantes pour (540,) valeurs uniques.\n",
      "La variable 'variete' a 163360 valeurs manquantes pour (437,) valeurs uniques.\n"
     ]
    }
   ],
   "source": [
    "genre_na = data.genre.isna().sum()\n",
    "genre_unique = data.genre.unique().shape\n",
    "print(f\"La variable 'genre' a {genre_na} valeurs manquantes pour {genre_unique} valeurs uniques.\")\n",
    "\n",
    "espece_na = data.espece.isna().sum()\n",
    "espece_unique = data.espece.unique().shape\n",
    "print(f\"La variable 'espece' a {espece_na} valeurs manquantes pour {espece_unique} valeurs uniques.\")\n",
    "\n",
    "variete_na = data.variete.isna().sum()\n",
    "variete_unique = data.variete.unique().shape\n",
    "print(f\"La variable 'variete' a {variete_na} valeurs manquantes pour {variete_unique} valeurs uniques.\")"
   ]
  },
  {
   "cell_type": "markdown",
   "id": "peripheral-ozone",
   "metadata": {},
   "source": [
    "La variable Genre comporte le moins de valeurs manquantes et le moins de valeurs uniques, ce qui rend l'analyse de la répartition des arbres plus pertinente et pratique. "
   ]
  },
  {
   "cell_type": "markdown",
   "id": "advanced-alabama",
   "metadata": {},
   "source": [
    "## Valeurs aberrantes \n",
    "\n",
    "### Hauteur"
   ]
  },
  {
   "cell_type": "code",
   "execution_count": 3,
   "id": "preceding-mobility",
   "metadata": {},
   "outputs": [
    {
     "data": {
      "text/plain": [
       "182852    881818\n",
       "150101      5155\n",
       "152110      2525\n",
       "101985      2015\n",
       "152205      1815\n",
       "147984      1610\n",
       "152437      1515\n",
       "152238      1515\n",
       "151382      1515\n",
       "153314      1514\n",
       "147229      1512\n",
       "96481       1511\n",
       "152339      1510\n",
       "5392        1510\n",
       "168580      1216\n",
       "68681       1211\n",
       "158359      1113\n",
       "107327      1010\n",
       "153036       818\n",
       "151364       815\n",
       "Name: hauteur_m, dtype: int64"
      ]
     },
     "execution_count": 3,
     "metadata": {},
     "output_type": "execute_result"
    }
   ],
   "source": [
    "data.hauteur_m.sort_values(ascending=False).iloc[:20]"
   ]
  },
  {
   "cell_type": "code",
   "execution_count": 4,
   "id": "neural-prophet",
   "metadata": {},
   "outputs": [
    {
     "data": {
      "text/plain": [
       "(573, 18)"
      ]
     },
     "execution_count": 4,
     "metadata": {},
     "output_type": "execute_result"
    }
   ],
   "source": [
    "data[data.hauteur_m > 30].shape"
   ]
  },
  {
   "cell_type": "markdown",
   "id": "placed-guide",
   "metadata": {},
   "source": [
    "On constate que beaucoup de valeurs de la variable hauteur_m sont aberrantes, aucun arbre ne fait jusqu'à 1km de haut, pas même 200m. \n",
    "\n",
    "Nos recherches ont montré que la taille maximale d'un arbre à Paris est 30m, et le nombre d'observations supérieures à ce nombre est négligeable face au total d'arbre dans la ville. Cependant, nous partons de l'hypothèse que les employés chargés des mesures ont rentrés les données en centimètres, et non pas en mètres. Afin de conserver ces données, nous avons décidé d'isoler les arbres de plus de 30m étant marqués comme juvéniles ou jeune adultes (J ou JA dans la variable stade_developpement) et de diviser leur hauteur par 100.\n"
   ]
  },
  {
   "cell_type": "code",
   "execution_count": 5,
   "id": "unavailable-thumb",
   "metadata": {},
   "outputs": [
    {
     "data": {
      "text/plain": [
       "(355, 18)"
      ]
     },
     "execution_count": 5,
     "metadata": {},
     "output_type": "execute_result"
    }
   ],
   "source": [
    "mask = ((data.hauteur_m > 30) & (data.stade_developpement.isin(['J', 'JA'])))\n",
    "data[mask].shape"
   ]
  },
  {
   "cell_type": "markdown",
   "id": "floral-crack",
   "metadata": {},
   "source": [
    "355 valeurs ont donc pu être conservées, le reste est considéré comme non-significatif. Pour éviter les valeurs aberrantes, on supprime les 120 arbres malgré tout d'une taille supérieure à 50m"
   ]
  },
  {
   "cell_type": "code",
   "execution_count": 6,
   "id": "critical-terry",
   "metadata": {},
   "outputs": [],
   "source": [
    "data.loc[mask, 'hauteur_m'] = data.loc[mask, 'hauteur_m'] / 100\n",
    "data = data[(data.hauteur_m < 50)]"
   ]
  },
  {
   "cell_type": "markdown",
   "id": "angry-parameter",
   "metadata": {},
   "source": [
    "### Circonférence\n",
    "\n",
    "Malheureusement, la circonférence varie beaucoup plus d'une espèce à l'autre, un cyprès peut être immense et très fin en comparaison d'un platane de même taille. "
   ]
  },
  {
   "cell_type": "code",
   "execution_count": 7,
   "id": "oriental-repeat",
   "metadata": {},
   "outputs": [
    {
     "name": "stderr",
     "output_type": "stream",
     "text": [
      "/Users/Katurha/opt/anaconda3/lib/python3.8/site-packages/seaborn/_decorators.py:36: FutureWarning: Pass the following variable as a keyword arg: x. From version 0.12, the only valid positional argument will be `data`, and passing other arguments without an explicit keyword will result in an error or misinterpretation.\n",
      "  warnings.warn(\n"
     ]
    },
    {
     "data": {
      "text/plain": [
       "<AxesSubplot:xlabel='circonference_cm'>"
      ]
     },
     "execution_count": 7,
     "metadata": {},
     "output_type": "execute_result"
    },
    {
     "data": {
      "image/png": "[encoded data removed]",
      "text/plain": [
       "<Figure size 432x288 with 1 Axes>"
      ]
     },
     "metadata": {
      "needs_background": "light"
     },
     "output_type": "display_data"
    }
   ],
   "source": [
    "sns.boxplot(data.circonference_cm)"
   ]
  },
  {
   "cell_type": "code",
   "execution_count": 8,
   "id": "split-alfred",
   "metadata": {},
   "outputs": [
    {
     "data": {
      "text/plain": [
       "(200009, 18)"
      ]
     },
     "execution_count": 8,
     "metadata": {},
     "output_type": "execute_result"
    }
   ],
   "source": [
    "data.shape"
   ]
  },
  {
   "cell_type": "code",
   "execution_count": 9,
   "id": "corporate-boston",
   "metadata": {},
   "outputs": [
    {
     "data": {
      "text/plain": [
       "149056    250255\n",
       "160432    120170\n",
       "173343     79120\n",
       "147634     65110\n",
       "91256      30140\n",
       "90605      20130\n",
       "71787      18589\n",
       "147235      9155\n",
       "164616      9095\n",
       "152303      9085\n",
       "103437      9035\n",
       "97354       8110\n",
       "151364      7540\n",
       "148106      6595\n",
       "170367      6125\n",
       "148481      6120\n",
       "163918      6085\n",
       "82951       5545\n",
       "133546      4090\n",
       "167606      3630\n",
       "Name: circonference_cm, dtype: int64"
      ]
     },
     "execution_count": 9,
     "metadata": {},
     "output_type": "execute_result"
    }
   ],
   "source": [
    "data.circonference_cm.sort_values(ascending=False)[:20]"
   ]
  },
  {
   "cell_type": "markdown",
   "id": "directed-fetish",
   "metadata": {},
   "source": [
    "Cela-dit, on peut être certains qu'aucun arbre ne fait plus de 15m de diamètre."
   ]
  },
  {
   "cell_type": "code",
   "execution_count": 10,
   "id": "classical-navigation",
   "metadata": {},
   "outputs": [
    {
     "data": {
      "text/plain": [
       "(35, 18)"
      ]
     },
     "execution_count": 10,
     "metadata": {},
     "output_type": "execute_result"
    }
   ],
   "source": [
    "data[(data.circonference_cm > 1500)].shape"
   ]
  },
  {
   "cell_type": "markdown",
   "id": "36f6b624-64b5-4681-a00f-82d850dbe26f",
   "metadata": {},
   "source": [
    "Seulement 35 valeurs sont affectées, on décide donc de les supprimer du dataset"
   ]
  },
  {
   "cell_type": "markdown",
   "id": "119febd8-0a6d-47a0-8478-b418693b3e21",
   "metadata": {},
   "source": [
    "## Valeurs manquantes"
   ]
  },
  {
   "cell_type": "code",
   "execution_count": 11,
   "id": "typical-pioneer",
   "metadata": {},
   "outputs": [
    {
     "data": {
      "text/plain": [
       "id                     0.000000\n",
       "type_emplacement       0.000000\n",
       "domanialite            0.000005\n",
       "arrondissement         0.000000\n",
       "complement_addresse    0.845667\n",
       "numero                 1.000000\n",
       "lieu                   0.000000\n",
       "id_emplacement         0.000000\n",
       "libelle_francais       0.007485\n",
       "genre                  0.000080\n",
       "espece                 0.008760\n",
       "variete                0.816198\n",
       "circonference_cm       0.000000\n",
       "hauteur_m              0.000000\n",
       "stade_developpement    0.335985\n",
       "remarquable            0.315456\n",
       "geo_point_2d_a         0.000000\n",
       "geo_point_2d_b         0.000000\n",
       "dtype: float64"
      ]
     },
     "execution_count": 11,
     "metadata": {},
     "output_type": "execute_result"
    }
   ],
   "source": [
    "data.isna().mean()"
   ]
  },
  {
   "cell_type": "markdown",
   "id": "2256d576-967c-4b14-94de-b1f86e200f2a",
   "metadata": {},
   "source": [
    "On se rend compte que le complément d'adresse, le numéro et la variété ont un nombre considérable de valeurs manquantes. Ce sont des valeurs que l'on doit supprimer pour l'analyse.\n",
    "\n",
    "Les variables de lieu et de l'id de l'emplacement ne sont pas utiles à l'analyse et le type d'emplacement indique 'arbre' à chaque observation. \n",
    "\n",
    "Les variables 'remarquable' et 'stade_developpement' peuvent être utiles pour l'analyse, un tiers des valeurs sont manquantes mais le grand nombre d'observations compense ce manque."
   ]
  },
  {
   "cell_type": "code",
   "execution_count": 12,
   "id": "fce7552e-6123-4167-b2b5-b42885403391",
   "metadata": {},
   "outputs": [
    {
     "data": {
      "text/plain": [
       "0                19\n",
       "1                20\n",
       "2                21\n",
       "3                22\n",
       "4          000G0037\n",
       "            ...    \n",
       "200132    720170151\n",
       "200133    720170152\n",
       "200134    720170153\n",
       "200135    720170154\n",
       "200136    720170155\n",
       "Name: id_emplacement, Length: 200009, dtype: object"
      ]
     },
     "execution_count": 12,
     "metadata": {},
     "output_type": "execute_result"
    }
   ],
   "source": [
    "data.id_emplacement"
   ]
  },
  {
   "cell_type": "code",
   "execution_count": 13,
   "id": "infectious-forth",
   "metadata": {},
   "outputs": [],
   "source": [
    "# Variables redondantes et presque vides\n",
    "# On garde genre plutot que libelle car il y a plus de données et moins de modalités\n",
    "\n",
    "var_inutiles = ['lieu', 'id_emplacement', 'type_emplacement']\n",
    "var_vides = ['complement_addresse', 'numero', 'variete']\n",
    "var_redondantes = ['espece', 'libelle_francais']\n",
    "\n",
    "var_drop = var_inutiles + var_vides + var_redondantes\n",
    "\n",
    "df = data.drop(var_drop, axis=1)"
   ]
  },
  {
   "cell_type": "markdown",
   "id": "c59aecb9-dfe7-424e-80cd-0b061f8caed5",
   "metadata": {},
   "source": [
    "# Data Explo\n",
    "\n",
    "## Domanialité\n",
    "\n",
    "La domanialité représente un usage spécifique et réglementé de l'arbre en question, par exemple des restrictions de taille, de type d'arbre, de position.."
   ]
  },
  {
   "cell_type": "code",
   "execution_count": 14,
   "id": "470be3e6-c747-41f0-a2f3-a09fb1a2f757",
   "metadata": {},
   "outputs": [],
   "source": [
    "temp = df.groupby(by='domanialite').count().id.sort_values(ascending=False)\n",
    "dom_sum = temp.sum()\n",
    "temp2 = (temp/dom_sum)*100"
   ]
  },
  {
   "cell_type": "markdown",
   "id": "786f30a5-4d84-4668-86d6-5b50174d87a6",
   "metadata": {},
   "source": [
    "Considérant que les arbres d'alignement, de jardin et de cimetière constituent plus de 95% des arbres traités, nous concentrons notre analyse sur ceux-ci"
   ]
  },
  {
   "cell_type": "code",
   "execution_count": 18,
   "id": "35d40397-12fd-4e17-8360-19b978235099",
   "metadata": {},
   "outputs": [
    {
     "name": "stderr",
     "output_type": "stream",
     "text": [
      "/Users/Katurha/opt/anaconda3/lib/python3.8/site-packages/seaborn/_decorators.py:36: FutureWarning: Pass the following variable as a keyword arg: x. From version 0.12, the only valid positional argument will be `data`, and passing other arguments without an explicit keyword will result in an error or misinterpretation.\n",
      "  warnings.warn(\n"
     ]
    },
    {
     "data": {
      "image/png": "[encoded data removed]",
      "text/plain": [
       "<Figure size 864x576 with 1 Axes>"
      ]
     },
     "metadata": {
      "needs_background": "light"
     },
     "output_type": "display_data"
    }
   ],
   "source": [
    "plot = sns.countplot(df.domanialite)\n",
    "plot.set_title('Répartition par domanialité')\n",
    "plt.xticks(rotation = 45)\n",
    "\n",
    "fig = plt.gcf()\n",
    "fig.set_size_inches(12, 8)\n",
    "fig.savefig('graphs/repartition_dom.png', bbox_inches='tight')"
   ]
  },
  {
   "cell_type": "code",
   "execution_count": null,
   "id": "910caca4-18ba-464c-be62-bf6986d8d3ae",
   "metadata": {},
   "outputs": [],
   "source": []
  },
  {
   "cell_type": "markdown",
   "id": "monetary-trial",
   "metadata": {},
   "source": [
    "# Extraction des données pour l'analyse"
   ]
  },
  {
   "cell_type": "code",
   "execution_count": null,
   "id": "c3c9ce71-8f2a-4d97-b9f3-e8dcb22fed36",
   "metadata": {},
   "outputs": [],
   "source": []
  },
  {
   "cell_type": "code",
   "execution_count": null,
   "id": "bc7215f2-531d-4ff8-abb5-50eb76b7909f",
   "metadata": {},
   "outputs": [],
   "source": []
  },
  {
   "cell_type": "code",
   "execution_count": 16,
   "id": "driving-proportion",
   "metadata": {},
   "outputs": [],
   "source": [
    "# Extraction de datasets\n",
    "from sklearn.preprocessing import OneHotEncoder\n",
    "\n",
    "# Coordonnées \n",
    "data_geo = df[['geo_point_2d_a', 'geo_point_2d_b']]\n",
    "\n",
    "# Dominalité\n",
    "dom_list = ['Alignement', 'Jardin', 'CIMETIERE']\n",
    "\n",
    "temp = df[df['circonference_cm'] < 600]\n",
    "temp = temp[temp['hauteur_m'] < 200]\n",
    "temp = temp[temp.domanialite.isin(dom_list)]\n",
    "\n",
    "new_name = {0: 'Alignement',\n",
    "         1: 'CIMETIERE', \n",
    "         2: 'Jardin'}\n",
    "\n",
    "dom = temp[['circonference_cm', 'hauteur_m', 'domanialite']].dropna()\n",
    "encoder = OneHotEncoder(handle_unknown='ignore')\n",
    "encoder_dom = pd.DataFrame(encoder.fit_transform(dom[['domanialite']]).toarray())\n",
    "final_dom = dom.join(encoder_dom)\n",
    "final_dom.rename(columns = new_name, inplace = True)\n",
    "\n",
    "# Age de l'arbre\n",
    "temp = df[df['circonference_cm'] < 600]\n",
    "temp = temp[temp['hauteur_m'] < 200]\n",
    "dev = temp[['circonference_cm', 'hauteur_m', 'stade_developpement']].dropna()\n",
    "\n",
    "dev['A'] = dev['stade_developpement'] == 'A'\n",
    "dev['J'] = dev['stade_developpement'] == 'J'\n",
    "dev['M'] = dev['stade_developpement'] == 'M'\n",
    "dev['JA'] = dev['stade_developpement'] == 'JA'\n",
    "\n",
    "# Repartition en fonction de la domanialité\n",
    "align = df[df['domanialite'] == 'Alignement']\n",
    "jardin = df[df['domanialite'] == 'Jardin']\n",
    "cimetiere = df[df['domanialite'] == 'CIMETIERE']\n",
    "\n",
    "# Domanialité vs stade de développement\n",
    "temp = df[df['circonference_cm'] < 600]\n",
    "temp = temp[temp['hauteur_m'] < 200]\n",
    "full = temp[['stade_developpement', 'domanialite']].dropna()\n",
    "\n",
    "full['A'] = full['stade_developpement'] == 'A'\n",
    "full['J'] = full['stade_developpement'] == 'J'\n",
    "full['M'] = full['stade_developpement'] == 'M'\n",
    "full['JA'] = full['stade_developpement'] == 'JA'\n",
    "full['Alignement'] = full['domanialite'] == 'Alignement'\n",
    "full['Cimetière'] = full['domanialite'] == 'CIMETIERE'\n",
    "full['Jardin'] = full['domanialite'] == 'Jardin'"
   ]
  },
  {
   "cell_type": "markdown",
   "id": "chronic-services",
   "metadata": {},
   "source": [
    "# Data explo\n",
    "\n",
    "## Domanialite"
   ]
  },
  {
   "cell_type": "code",
   "execution_count": 17,
   "id": "031ddf0b-a4e5-46ba-808b-a1e4e3d9fc9b",
   "metadata": {},
   "outputs": [
    {
     "ename": "SyntaxError",
     "evalue": "invalid syntax (<ipython-input-17-bb5ef7007af4>, line 1)",
     "output_type": "error",
     "traceback": [
      "\u001b[0;36m  File \u001b[0;32m\"<ipython-input-17-bb5ef7007af4>\"\u001b[0;36m, line \u001b[0;32m1\u001b[0m\n\u001b[0;31m    dom.\u001b[0m\n\u001b[0m        ^\u001b[0m\n\u001b[0;31mSyntaxError\u001b[0m\u001b[0;31m:\u001b[0m invalid syntax\n"
     ]
    }
   ],
   "source": [
    "dom."
   ]
  },
  {
   "cell_type": "code",
   "execution_count": null,
   "id": "dcc9bd36-7443-4fc4-b4e7-f8ea7749fb8e",
   "metadata": {},
   "outputs": [],
   "source": []
  },
  {
   "cell_type": "code",
   "execution_count": null,
   "id": "424d6819-b3ea-4fe5-b641-b9fb67c2fb2e",
   "metadata": {},
   "outputs": [],
   "source": []
  },
  {
   "cell_type": "code",
   "execution_count": null,
   "id": "amateur-algorithm",
   "metadata": {},
   "outputs": [],
   "source": [
    "cr = final_dom.corr()\n",
    "final_cr = cr.loc[['Alignement', 'Jardin', 'CIMETIERE'], ['hauteur_m', 'circonference_cm']]\n",
    "plot = sns.heatmap(final_cr, annot=True, linewidths=.7)\n",
    "plot.set_xticklabels(['Hauteur (mètres)', 'Circonférence (centimètres)'])\n",
    "plot.set_yticklabels(['Alignement', 'Jardin', 'Cimetière'])\n",
    "plot.set_title('Corrélation entre la hauteur/circonférence et la domanialité des arbres.')\n",
    "\n",
    "fig = plt.gcf()\n",
    "fig.set_size_inches(12, 4)\n",
    "plt.yticks(rotation=0)\n",
    "plt.savefig('graphs/Domanialité_taille_corr.png', bbox_inches='tight')"
   ]
  },
  {
   "cell_type": "markdown",
   "id": "remarkable-psychology",
   "metadata": {},
   "source": [
    "Correlation plus difficile à trouver avec la circonference qu'avec la hauteur.\n",
    "Il ya un vrai lien entre l'usage de l'arbre et ses caractéristiques."
   ]
  },
  {
   "cell_type": "markdown",
   "id": "variable-print",
   "metadata": {},
   "source": [
    "## Stade de développement"
   ]
  },
  {
   "cell_type": "code",
   "execution_count": null,
   "id": "norman-final",
   "metadata": {},
   "outputs": [],
   "source": [
    "cr = dev.corr()\n",
    "final_cr = cr.loc[['A', 'J', 'M', 'JA'], ['hauteur_m', 'circonference_cm']]\n",
    "plot = sns.heatmap(final_cr, annot=True, linewidths=.7)\n",
    "plot.set_title('Corrélation entre la hauteur/circonférence et le développement des arbres.')\n",
    "plot.set_xticklabels(['Hauteur (mètres)', 'Circonférence (centimètres)'])\n",
    "\n",
    "fig = plt.gcf()\n",
    "fig.set_size_inches(12, 4)\n",
    "plt.yticks(rotation=0)\n",
    "plt.savefig('graphs/Développement_taille_corr.png', bbox_inches='tight')"
   ]
  },
  {
   "cell_type": "markdown",
   "id": "domestic-handy",
   "metadata": {},
   "source": [
    "J > JA > M > A\n",
    "\n",
    "## Stade de développement vs domanialité"
   ]
  },
  {
   "cell_type": "code",
   "execution_count": null,
   "id": "competent-remove",
   "metadata": {},
   "outputs": [],
   "source": [
    "cr = full.corr().loc[['A', 'J', 'M', 'JA'], ['Alignement', 'Cimetière', 'Jardin']]\n",
    "\n",
    "plot = sns.heatmap(cr, annot=True, linewidths=.7)\n",
    "plot.set_title('Corrélation entre le développement des arbres et leur domanialité.')\n",
    "\n",
    "fig = plt.gcf()\n",
    "fig.set_size_inches(12, 4)\n",
    "plt.yticks(rotation=0)\n",
    "plt.savefig('graphs/Développement_domanialité_corr.png', bbox_inches='tight')"
   ]
  },
  {
   "cell_type": "markdown",
   "id": "amazing-mechanism",
   "metadata": {},
   "source": [
    "## Domanialité vs espèces"
   ]
  },
  {
   "cell_type": "code",
   "execution_count": null,
   "id": "round-garden",
   "metadata": {},
   "outputs": [],
   "source": [
    "# Repartition totale des espèces\n",
    "\n",
    "temp = df.groupby(by = 'genre').count()['id'].sort_values(ascending = False)[:15]\n",
    "most_trees = temp.index.to_list()\n",
    "plot = sns.barplot(x = temp.index, y = temp.values)\n",
    "plot.set(title=\"Répartition totale des espèces d'arbres\")\n",
    "\n",
    "plt.xticks(rotation=70)\n",
    "fig = plt.gcf()\n",
    "fig.set_size_inches(12, 4)\n",
    "plt.savefig('graphs/genre_répartition.png', bbox_inches='tight')"
   ]
  },
  {
   "cell_type": "code",
   "execution_count": null,
   "id": "through-trunk",
   "metadata": {},
   "outputs": [],
   "source": [
    "# Répartition des alignements\n",
    "\n",
    "temp = align.groupby(by = 'genre').count()['id'].sort_values(ascending = False)[:15]\n",
    "plot = sns.barplot(x = temp.index, y = temp.values)\n",
    "plot.set(title=\"Répartition des espèces d'arbres d'alignement\")\n",
    "\n",
    "plt.xticks(rotation=70)\n",
    "fig = plt.gcf()\n",
    "fig.set_size_inches(12, 4)\n",
    "plt.savefig('graphs/alignement_genre_répartition.png', bbox_inches='tight')"
   ]
  },
  {
   "cell_type": "code",
   "execution_count": null,
   "id": "photographic-dominican",
   "metadata": {},
   "outputs": [],
   "source": [
    "# Répartition des jardins\n",
    "\n",
    "temp = jardin.groupby(by = 'genre').count()['id'].sort_values(ascending = False)[:15]\n",
    "plot = sns.barplot(x = temp.index, y = temp.values)\n",
    "plot.set(title=\"Répartition des espèces d'arbres de jardin\")\n",
    "\n",
    "plt.xticks(rotation=70)\n",
    "fig = plt.gcf()\n",
    "fig.set_size_inches(12, 4)\n",
    "plt.savefig('graphs/jardin_genre_répartition.png', bbox_inches='tight')"
   ]
  },
  {
   "cell_type": "code",
   "execution_count": null,
   "id": "diagnostic-offer",
   "metadata": {},
   "outputs": [],
   "source": [
    "# Répartition des cimetières\n",
    "\n",
    "temp = cimetiere.groupby(by = 'genre').count()['id'].sort_values(ascending = False)[:15]\n",
    "plot = sns.barplot(x = temp.index, y = temp.values)\n",
    "plot.set_title('Répartition des espèces des arbres de cimetière.')\n",
    "\n",
    "plt.xticks(rotation=70)\n",
    "fig = plt.gcf()\n",
    "fig.set_size_inches(12, 4)\n",
    "plt.savefig('graphs/cimetière_genre_répartition.png', bbox_inches='tight')"
   ]
  },
  {
   "cell_type": "code",
   "execution_count": null,
   "id": "historic-festival",
   "metadata": {},
   "outputs": [],
   "source": []
  },
  {
   "cell_type": "code",
   "execution_count": null,
   "id": "da4603a0-d716-4781-8c97-d08d715c4e70",
   "metadata": {},
   "outputs": [],
   "source": []
  },
  {
   "cell_type": "code",
   "execution_count": null,
   "id": "03299bfd-41a8-4727-bc40-54a6390c52a8",
   "metadata": {},
   "outputs": [],
   "source": []
  }
 ],
 "metadata": {
  "kernelspec": {
   "display_name": "Python 3",
   "language": "python",
   "name": "python3"
  },
  "language_info": {
   "codemirror_mode": {
    "name": "ipython",
    "version": 3
   },
   "file_extension": ".py",
   "mimetype": "text/x-python",
   "name": "python",
   "nbconvert_exporter": "python",
   "pygments_lexer": "ipython3",
   "version": "3.8.8"
  }
 },
 "nbformat": 4,
 "nbformat_minor": 5
}
