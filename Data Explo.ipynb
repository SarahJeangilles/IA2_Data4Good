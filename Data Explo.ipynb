{
 "cells": [
  {
   "cell_type": "code",
   "execution_count": 67,
   "id": "extra-packaging",
   "metadata": {},
   "outputs": [],
   "source": [
    "import pandas as pd\n",
    "import seaborn as sns\n",
    "import matplotlib.pyplot as plt\n",
    "\n",
    "DATA_PATH = 'data/'\n",
    "\n",
    "data = pd.read_csv(DATA_PATH + 'p2-arbres-fr.csv', sep=';')"
   ]
  },
  {
   "cell_type": "markdown",
   "id": "french-works",
   "metadata": {},
   "source": [
    "# Nettoyage des données\n",
    "\n",
    "## Quelle variable pour l'espèce d'arbre ?"
   ]
  },
  {
   "cell_type": "code",
   "execution_count": 68,
   "id": "pleased-theory",
   "metadata": {},
   "outputs": [
    {
     "name": "stdout",
     "output_type": "stream",
     "text": [
      "La variable 'Genre' a 16 valeurs manquantes pour (176,) valeurs uniques.\n",
      "La variable 'espece' a 1752 valeurs manquantes pour (540,) valeurs uniques.\n",
      "La variable 'variete' a 163360 valeurs manquantes pour (437,) valeurs uniques.\n"
     ]
    }
   ],
   "source": [
    "genre_na = data.genre.isna().sum()\n",
    "genre_unique = data.genre.unique().shape\n",
    "print(f\"La variable 'Genre' a {genre_na} valeurs manquantes pour {genre_unique} valeurs uniques.\")\n",
    "\n",
    "espece_na = data.espece.isna().sum()\n",
    "espece_unique = data.espece.unique().shape\n",
    "print(f\"La variable 'espece' a {espece_na} valeurs manquantes pour {espece_unique} valeurs uniques.\")\n",
    "\n",
    "variete_na = data.variete.isna().sum()\n",
    "variete_unique = data.variete.unique().shape\n",
    "print(f\"La variable 'variete' a {variete_na} valeurs manquantes pour {variete_unique} valeurs uniques.\")"
   ]
  },
  {
   "cell_type": "markdown",
   "id": "peripheral-ozone",
   "metadata": {},
   "source": [
    "La variable Genre comporte le moins de valeurs manquantes et le moins de valeurs uniques, ce qui rend l'analyse de la répartition des arbres plus pertinente et pratique. "
   ]
  },
  {
   "cell_type": "markdown",
   "id": "advanced-alabama",
   "metadata": {},
   "source": [
    "## Valeurs aberrantes \n",
    "\n",
    "### Hauteur"
   ]
  },
  {
   "cell_type": "code",
   "execution_count": 69,
   "id": "preceding-mobility",
   "metadata": {},
   "outputs": [
    {
     "data": {
      "text/plain": [
       "182852    881818\n",
       "150101      5155\n",
       "152110      2525\n",
       "101985      2015\n",
       "152205      1815\n",
       "147984      1610\n",
       "152437      1515\n",
       "152238      1515\n",
       "151382      1515\n",
       "153314      1514\n",
       "147229      1512\n",
       "96481       1511\n",
       "152339      1510\n",
       "5392        1510\n",
       "168580      1216\n",
       "68681       1211\n",
       "158359      1113\n",
       "107327      1010\n",
       "153036       818\n",
       "151364       815\n",
       "Name: hauteur_m, dtype: int64"
      ]
     },
     "execution_count": 69,
     "metadata": {},
     "output_type": "execute_result"
    }
   ],
   "source": [
    "data.hauteur_m.sort_values(ascending=False).iloc[:20]"
   ]
  },
  {
   "cell_type": "code",
   "execution_count": 70,
   "id": "neural-prophet",
   "metadata": {},
   "outputs": [
    {
     "data": {
      "text/plain": [
       "(573, 18)"
      ]
     },
     "execution_count": 70,
     "metadata": {},
     "output_type": "execute_result"
    }
   ],
   "source": [
    "data[data.hauteur_m > 30].shape"
   ]
  },
  {
   "cell_type": "markdown",
   "id": "placed-guide",
   "metadata": {},
   "source": [
    "On constate que beaucoup de valeurs de la variable hauteur_m sont aberrantes, aucun arbre ne fait jusqu'à 1km de haut, pas même 200m. \n",
    "\n",
    "Nos recherches ont montré que la taille maximale d'un arbre à Paris est 30m, et le nombre d'observations supérieures à ce nombre est négligeable face au total d'arbre dans la ville. Cependant, nous partons de l'hypothèse que les employés chargés des mesures ont rentrés les données en centimètres, et non pas en mètres. Afin de conserver ces données, nous avons décidé d'isoler les arbres de plus de 30m étant marqués comme juvéniles ou jeune adultes (J ou JA dans la variable stade_developpement) et de diviser leur hauteur par 100.\n"
   ]
  },
  {
   "cell_type": "code",
   "execution_count": 71,
   "id": "unavailable-thumb",
   "metadata": {},
   "outputs": [
    {
     "data": {
      "text/plain": [
       "(355, 18)"
      ]
     },
     "execution_count": 71,
     "metadata": {},
     "output_type": "execute_result"
    }
   ],
   "source": [
    "mask = ((data.hauteur_m > 30) & (data.stade_developpement.isin(['J', 'JA'])))\n",
    "data[mask].shape"
   ]
  },
  {
   "cell_type": "markdown",
   "id": "floral-crack",
   "metadata": {},
   "source": [
    "355 valeurs ont donc pu être conservées, le reste est considéré comme non-significatif. Pour éviter les valeurs aberrantes, on supprime les 120 arbres malgré tout d'une taille supérieure à 50m"
   ]
  },
  {
   "cell_type": "code",
   "execution_count": 79,
   "id": "critical-terry",
   "metadata": {},
   "outputs": [
    {
     "data": {
      "text/plain": [
       "(199656, 18)"
      ]
     },
     "execution_count": 79,
     "metadata": {},
     "output_type": "execute_result"
    }
   ],
   "source": [
    "data.loc[mask, 'hauteur_m'] = data.loc[mask, 'hauteur_m'] / 100\n",
    "data = data[(data.hauteur_m < 50)]"
   ]
  },
  {
   "cell_type": "markdown",
   "id": "angry-parameter",
   "metadata": {},
   "source": [
    "### Circonférence\n",
    "\n",
    "Malheureusement, la circonférence varie beaucoup plus d'une espèce à l'autre, un cyprès peut être immense et très fin en comparaison d'un platane de même taille. "
   ]
  },
  {
   "cell_type": "code",
   "execution_count": 80,
   "id": "oriental-repeat",
   "metadata": {},
   "outputs": [
    {
     "name": "stderr",
     "output_type": "stream",
     "text": [
      "C:\\anaconda\\lib\\site-packages\\seaborn\\_decorators.py:36: FutureWarning: Pass the following variable as a keyword arg: x. From version 0.12, the only valid positional argument will be `data`, and passing other arguments without an explicit keyword will result in an error or misinterpretation.\n",
      "  warnings.warn(\n"
     ]
    },
    {
     "data": {
      "text/plain": [
       "<AxesSubplot:xlabel='circonference_cm'>"
      ]
     },
     "execution_count": 80,
     "metadata": {},
     "output_type": "execute_result"
    },
    {
     "data": {
      "image/png": "[encoded data removed]",
      "text/plain": [
       "<Figure size 432x288 with 1 Axes>"
      ]
     },
     "metadata": {
      "needs_background": "light"
     },
     "output_type": "display_data"
    }
   ],
   "source": [
    "sns.boxplot(data.circonference_cm)"
   ]
  },
  {
   "cell_type": "code",
   "execution_count": 81,
   "id": "split-alfred",
   "metadata": {},
   "outputs": [
    {
     "data": {
      "text/plain": [
       "(199656, 18)"
      ]
     },
     "execution_count": 81,
     "metadata": {},
     "output_type": "execute_result"
    }
   ],
   "source": [
    "data.shape"
   ]
  },
  {
   "cell_type": "code",
   "execution_count": 84,
   "id": "corporate-boston",
   "metadata": {},
   "outputs": [
    {
     "data": {
      "text/plain": [
       "149056    250255\n",
       "160432    120170\n",
       "173343     79120\n",
       "147634     65110\n",
       "91256      30140\n",
       "90605      20130\n",
       "71787      18589\n",
       "147235      9155\n",
       "164616      9095\n",
       "152303      9085\n",
       "103437      9035\n",
       "97354       8110\n",
       "148106      6595\n",
       "170367      6125\n",
       "148481      6120\n",
       "163918      6085\n",
       "133546      4090\n",
       "167606      3630\n",
       "152046      3120\n",
       "198023      2750\n",
       "Name: circonference_cm, dtype: int64"
      ]
     },
     "execution_count": 84,
     "metadata": {},
     "output_type": "execute_result"
    }
   ],
   "source": [
    "data.circonference_cm.sort_values(ascending=False)[:20]"
   ]
  },
  {
   "cell_type": "code",
   "execution_count": 87,
   "id": "romance-prayer",
   "metadata": {},
   "outputs": [
    {
     "data": {
      "text/plain": [
       "0"
      ]
     },
     "execution_count": 87,
     "metadata": {},
     "output_type": "execute_result"
    }
   ],
   "source": [
    "4090 % 5"
   ]
  },
  {
   "cell_type": "markdown",
   "id": "directed-fetish",
   "metadata": {},
   "source": [
    "Cela-dit, on peut-être certains qu'aucun arbre ne fait plus de 15m de diamètre."
   ]
  },
  {
   "cell_type": "code",
   "execution_count": 88,
   "id": "classical-navigation",
   "metadata": {},
   "outputs": [
    {
     "data": {
      "text/plain": [
       "(176365, 18)"
      ]
     },
     "execution_count": 88,
     "metadata": {},
     "output_type": "execute_result"
    }
   ],
   "source": [
    "data[(data.circonference_cm < ].shape"
   ]
  },
  {
   "cell_type": "code",
   "execution_count": 50,
   "id": "typical-pioneer",
   "metadata": {},
   "outputs": [
    {
     "data": {
      "text/plain": [
       "id                     0.000000\n",
       "type_emplacement       0.000000\n",
       "domanialite            0.000000\n",
       "arrondissement         0.000000\n",
       "complement_addresse    0.892958\n",
       "numero                 1.000000\n",
       "lieu                   0.000000\n",
       "id_emplacement         0.000000\n",
       "libelle_francais       0.000000\n",
       "genre                  0.000000\n",
       "espece                 0.000000\n",
       "variete                0.943662\n",
       "circonference_cm       0.000000\n",
       "hauteur_m              0.000000\n",
       "stade_developpement    0.000000\n",
       "remarquable            0.002817\n",
       "geo_point_2d_a         0.000000\n",
       "geo_point_2d_b         0.000000\n",
       "dtype: float64"
      ]
     },
     "execution_count": 50,
     "metadata": {},
     "output_type": "execute_result"
    }
   ],
   "source": [
    "data.isna().mean()"
   ]
  },
  {
   "cell_type": "code",
   "execution_count": null,
   "id": "personalized-boundary",
   "metadata": {},
   "outputs": [],
   "source": []
  },
  {
   "cell_type": "code",
   "execution_count": null,
   "id": "infectious-forth",
   "metadata": {},
   "outputs": [],
   "source": []
  },
  {
   "cell_type": "code",
   "execution_count": null,
   "id": "turkish-castle",
   "metadata": {},
   "outputs": [],
   "source": []
  },
  {
   "cell_type": "code",
   "execution_count": null,
   "id": "geological-sense",
   "metadata": {},
   "outputs": [],
   "source": []
  },
  {
   "cell_type": "code",
   "execution_count": null,
   "id": "solid-information",
   "metadata": {},
   "outputs": [],
   "source": []
  },
  {
   "cell_type": "code",
   "execution_count": 5,
   "id": "funky-retrieval",
   "metadata": {},
   "outputs": [],
   "source": [
    "# Variables redondantes et presque vides\n",
    "# On garde genre plutot que libelle car il y a plus de données et moins de modalités\n",
    "\n",
    "var_inutiles = ['lieu', 'id_emplacement', 'type_emplacement']\n",
    "var_vides = ['complement_addresse', 'numero', 'espece', 'variete', 'libelle_francais']\n",
    "var_drop = var_inutiles + var_vides\n",
    "\n",
    "df = data.drop(var_drop, axis=1)\n",
    "# Formattage de la colonne remarquable\n",
    "df['remarquable'] = df.remarquable.isna()\n"
   ]
  },
  {
   "cell_type": "markdown",
   "id": "monetary-trial",
   "metadata": {},
   "source": [
    "# Extraction des données pour l'analyse"
   ]
  },
  {
   "cell_type": "code",
   "execution_count": 6,
   "id": "driving-proportion",
   "metadata": {},
   "outputs": [],
   "source": [
    "# Extraction de datasets\n",
    "from sklearn.preprocessing import OneHotEncoder\n",
    "\n",
    "# Coordonnées \n",
    "data_geo = df[['geo_point_2d_a', 'geo_point_2d_b']]\n",
    "\n",
    "# Dominalité\n",
    "dom_list = ['Alignement', 'Jardin', 'CIMETIERE']\n",
    "\n",
    "temp = df[df['circonference_cm'] < 600]\n",
    "temp = temp[temp['hauteur_m'] < 200]\n",
    "temp = temp[temp.domanialite.isin(dom_list)]\n",
    "\n",
    "new_name = {0: 'Alignement',\n",
    "         1: 'CIMETIERE', \n",
    "         2: 'Jardin'}\n",
    "\n",
    "dom = temp[['circonference_cm', 'hauteur_m', 'domanialite']].dropna()\n",
    "encoder = OneHotEncoder(handle_unknown='ignore')\n",
    "encoder_dom = pd.DataFrame(encoder.fit_transform(dom[['domanialite']]).toarray())\n",
    "final_dom = dom.join(encoder_dom)\n",
    "final_dom.rename(columns = new_name, inplace = True)\n",
    "\n",
    "# Age de l'arbre\n",
    "temp = df[df['circonference_cm'] < 600]\n",
    "temp = temp[temp['hauteur_m'] < 200]\n",
    "dev = temp[['circonference_cm', 'hauteur_m', 'stade_developpement']].dropna()\n",
    "\n",
    "dev['A'] = dev['stade_developpement'] == 'A'\n",
    "dev['J'] = dev['stade_developpement'] == 'J'\n",
    "dev['M'] = dev['stade_developpement'] == 'M'\n",
    "dev['JA'] = dev['stade_developpement'] == 'JA'\n",
    "\n",
    "# Repartition en fonction de la domanialité\n",
    "\n",
    "align = df[df['domanialite'] == 'Alignement']\n",
    "jardin = df[df['domanialite'] == 'Jardin']\n",
    "cimetiere = df[df['domanialite'] == 'CIMETIERE']\n",
    "\n",
    "# Domanialité vs stade de développement\n",
    "\n",
    "temp = df[df['circonference_cm'] < 600]\n",
    "temp = temp[temp['hauteur_m'] < 200]\n",
    "full = temp[['stade_developpement', 'domanialite']].dropna()\n",
    "\n",
    "full['A'] = full['stade_developpement'] == 'A'\n",
    "full['J'] = full['stade_developpement'] == 'J'\n",
    "full['M'] = full['stade_developpement'] == 'M'\n",
    "full['JA'] = full['stade_developpement'] == 'JA'\n",
    "full['Alignement'] = full['domanialite'] == 'Alignement'\n",
    "full['Cimetière'] = full['domanialite'] == 'CIMETIERE'\n",
    "full['Jardin'] = full['domanialite'] == 'Jardin'"
   ]
  },
  {
   "cell_type": "code",
   "execution_count": 7,
   "id": "paperback-ottawa",
   "metadata": {},
   "outputs": [
    {
     "data": {
      "text/html": [
       "<div>\n",
       "<style scoped>\n",
       "    .dataframe tbody tr th:only-of-type {\n",
       "        vertical-align: middle;\n",
       "    }\n",
       "\n",
       "    .dataframe tbody tr th {\n",
       "        vertical-align: top;\n",
       "    }\n",
       "\n",
       "    .dataframe thead th {\n",
       "        text-align: right;\n",
       "    }\n",
       "</style>\n",
       "<table border=\"1\" class=\"dataframe\">\n",
       "  <thead>\n",
       "    <tr style=\"text-align: right;\">\n",
       "      <th></th>\n",
       "      <th>stade_developpement</th>\n",
       "      <th>domanialite</th>\n",
       "      <th>A</th>\n",
       "      <th>J</th>\n",
       "      <th>M</th>\n",
       "      <th>JA</th>\n",
       "      <th>Alignement</th>\n",
       "      <th>Cimetière</th>\n",
       "      <th>Jardin</th>\n",
       "    </tr>\n",
       "  </thead>\n",
       "  <tbody>\n",
       "    <tr>\n",
       "      <th>1</th>\n",
       "      <td>A</td>\n",
       "      <td>Jardin</td>\n",
       "      <td>True</td>\n",
       "      <td>False</td>\n",
       "      <td>False</td>\n",
       "      <td>False</td>\n",
       "      <td>False</td>\n",
       "      <td>False</td>\n",
       "      <td>True</td>\n",
       "    </tr>\n",
       "    <tr>\n",
       "      <th>2</th>\n",
       "      <td>A</td>\n",
       "      <td>Jardin</td>\n",
       "      <td>True</td>\n",
       "      <td>False</td>\n",
       "      <td>False</td>\n",
       "      <td>False</td>\n",
       "      <td>False</td>\n",
       "      <td>False</td>\n",
       "      <td>True</td>\n",
       "    </tr>\n",
       "    <tr>\n",
       "      <th>3</th>\n",
       "      <td>A</td>\n",
       "      <td>Jardin</td>\n",
       "      <td>True</td>\n",
       "      <td>False</td>\n",
       "      <td>False</td>\n",
       "      <td>False</td>\n",
       "      <td>False</td>\n",
       "      <td>False</td>\n",
       "      <td>True</td>\n",
       "    </tr>\n",
       "    <tr>\n",
       "      <th>8</th>\n",
       "      <td>A</td>\n",
       "      <td>Jardin</td>\n",
       "      <td>True</td>\n",
       "      <td>False</td>\n",
       "      <td>False</td>\n",
       "      <td>False</td>\n",
       "      <td>False</td>\n",
       "      <td>False</td>\n",
       "      <td>True</td>\n",
       "    </tr>\n",
       "    <tr>\n",
       "      <th>9</th>\n",
       "      <td>A</td>\n",
       "      <td>Jardin</td>\n",
       "      <td>True</td>\n",
       "      <td>False</td>\n",
       "      <td>False</td>\n",
       "      <td>False</td>\n",
       "      <td>False</td>\n",
       "      <td>False</td>\n",
       "      <td>True</td>\n",
       "    </tr>\n",
       "    <tr>\n",
       "      <th>...</th>\n",
       "      <td>...</td>\n",
       "      <td>...</td>\n",
       "      <td>...</td>\n",
       "      <td>...</td>\n",
       "      <td>...</td>\n",
       "      <td>...</td>\n",
       "      <td>...</td>\n",
       "      <td>...</td>\n",
       "      <td>...</td>\n",
       "    </tr>\n",
       "    <tr>\n",
       "      <th>198859</th>\n",
       "      <td>J</td>\n",
       "      <td>DJS</td>\n",
       "      <td>False</td>\n",
       "      <td>True</td>\n",
       "      <td>False</td>\n",
       "      <td>False</td>\n",
       "      <td>False</td>\n",
       "      <td>False</td>\n",
       "      <td>False</td>\n",
       "    </tr>\n",
       "    <tr>\n",
       "      <th>198860</th>\n",
       "      <td>J</td>\n",
       "      <td>Jardin</td>\n",
       "      <td>False</td>\n",
       "      <td>True</td>\n",
       "      <td>False</td>\n",
       "      <td>False</td>\n",
       "      <td>False</td>\n",
       "      <td>False</td>\n",
       "      <td>True</td>\n",
       "    </tr>\n",
       "    <tr>\n",
       "      <th>198861</th>\n",
       "      <td>JA</td>\n",
       "      <td>Jardin</td>\n",
       "      <td>False</td>\n",
       "      <td>False</td>\n",
       "      <td>False</td>\n",
       "      <td>True</td>\n",
       "      <td>False</td>\n",
       "      <td>False</td>\n",
       "      <td>True</td>\n",
       "    </tr>\n",
       "    <tr>\n",
       "      <th>198862</th>\n",
       "      <td>JA</td>\n",
       "      <td>Jardin</td>\n",
       "      <td>False</td>\n",
       "      <td>False</td>\n",
       "      <td>False</td>\n",
       "      <td>True</td>\n",
       "      <td>False</td>\n",
       "      <td>False</td>\n",
       "      <td>True</td>\n",
       "    </tr>\n",
       "    <tr>\n",
       "      <th>198865</th>\n",
       "      <td>A</td>\n",
       "      <td>DJS</td>\n",
       "      <td>True</td>\n",
       "      <td>False</td>\n",
       "      <td>False</td>\n",
       "      <td>False</td>\n",
       "      <td>False</td>\n",
       "      <td>False</td>\n",
       "      <td>False</td>\n",
       "    </tr>\n",
       "  </tbody>\n",
       "</table>\n",
       "<p>132796 rows × 9 columns</p>\n",
       "</div>"
      ],
      "text/plain": [
       "       stade_developpement domanialite      A      J      M     JA  \\\n",
       "1                        A      Jardin   True  False  False  False   \n",
       "2                        A      Jardin   True  False  False  False   \n",
       "3                        A      Jardin   True  False  False  False   \n",
       "8                        A      Jardin   True  False  False  False   \n",
       "9                        A      Jardin   True  False  False  False   \n",
       "...                    ...         ...    ...    ...    ...    ...   \n",
       "198859                   J         DJS  False   True  False  False   \n",
       "198860                   J      Jardin  False   True  False  False   \n",
       "198861                  JA      Jardin  False  False  False   True   \n",
       "198862                  JA      Jardin  False  False  False   True   \n",
       "198865                   A         DJS   True  False  False  False   \n",
       "\n",
       "        Alignement  Cimetière  Jardin  \n",
       "1            False      False    True  \n",
       "2            False      False    True  \n",
       "3            False      False    True  \n",
       "8            False      False    True  \n",
       "9            False      False    True  \n",
       "...            ...        ...     ...  \n",
       "198859       False      False   False  \n",
       "198860       False      False    True  \n",
       "198861       False      False    True  \n",
       "198862       False      False    True  \n",
       "198865       False      False   False  \n",
       "\n",
       "[132796 rows x 9 columns]"
      ]
     },
     "execution_count": 7,
     "metadata": {},
     "output_type": "execute_result"
    }
   ],
   "source": [
    "full"
   ]
  },
  {
   "cell_type": "markdown",
   "id": "chronic-services",
   "metadata": {},
   "source": [
    "# Data explo\n",
    "\n",
    "## Domanialite"
   ]
  },
  {
   "cell_type": "code",
   "execution_count": 8,
   "id": "amateur-algorithm",
   "metadata": {},
   "outputs": [
    {
     "data": {
      "image/png": "[encoded data removed]",
      "text/plain": [
       "<Figure size 864x288 with 2 Axes>"
      ]
     },
     "metadata": {
      "needs_background": "light"
     },
     "output_type": "display_data"
    }
   ],
   "source": [
    "cr = final_dom.corr()\n",
    "final_cr = cr.loc[['Alignement', 'Jardin', 'CIMETIERE'], ['hauteur_m', 'circonference_cm']]\n",
    "plot = sns.heatmap(final_cr, annot=True, linewidths=.7)\n",
    "plot.set_xticklabels(['Hauteur (mètres)', 'Circonférence (centimètres)'])\n",
    "plot.set_yticklabels(['Alignement', 'Jardin', 'Cimetière'])\n",
    "plot.set_title('Corrélation entre la hauteur/circonférence et la domanialité des arbres.')\n",
    "\n",
    "fig = plt.gcf()\n",
    "fig.set_size_inches(12, 4)\n",
    "plt.yticks(rotation=0)\n",
    "plt.savefig('graphs/Domanialité_taille_corr.png')"
   ]
  },
  {
   "cell_type": "markdown",
   "id": "remarkable-psychology",
   "metadata": {},
   "source": [
    "Correlation plus difficile à trouver avec la circonference qu'avec la hauteur.\n",
    "Il ya un vrai lien entre l'usage de l'arbre et ses caractéristiques."
   ]
  },
  {
   "cell_type": "markdown",
   "id": "variable-print",
   "metadata": {},
   "source": [
    "## Stade de développement"
   ]
  },
  {
   "cell_type": "code",
   "execution_count": 9,
   "id": "norman-final",
   "metadata": {},
   "outputs": [
    {
     "data": {
      "image/png": "[encoded data removed]",
      "text/plain": [
       "<Figure size 864x288 with 2 Axes>"
      ]
     },
     "metadata": {
      "needs_background": "light"
     },
     "output_type": "display_data"
    }
   ],
   "source": [
    "cr = dev.corr()\n",
    "final_cr = cr.loc[['A', 'J', 'M', 'JA'], ['hauteur_m', 'circonference_cm']]\n",
    "plot = sns.heatmap(final_cr, annot=True, linewidths=.7)\n",
    "plot.set_title('Corrélation entre la hauteur/circonférence et le développement des arbres.')\n",
    "plot.set_xticklabels(['Hauteur (mètres)', 'Circonférence (centimètres)'])\n",
    "\n",
    "fig = plt.gcf()\n",
    "fig.set_size_inches(12, 4)\n",
    "plt.yticks(rotation=0)\n",
    "plt.savefig('graphs/Développement_taille_corr.png')"
   ]
  },
  {
   "cell_type": "markdown",
   "id": "domestic-handy",
   "metadata": {},
   "source": [
    "J > JA > M > A\n",
    "\n",
    "## Stade de développement vs domanialité"
   ]
  },
  {
   "cell_type": "code",
   "execution_count": 10,
   "id": "competent-remove",
   "metadata": {},
   "outputs": [
    {
     "data": {
      "image/png": "[encoded data removed]",
      "text/plain": [
       "<Figure size 864x288 with 2 Axes>"
      ]
     },
     "metadata": {
      "needs_background": "light"
     },
     "output_type": "display_data"
    }
   ],
   "source": [
    "cr = full.corr().loc[['A', 'J', 'M', 'JA'], ['Alignement', 'Cimetière', 'Jardin']]\n",
    "\n",
    "plot = sns.heatmap(cr, annot=True, linewidths=.7)\n",
    "plot.set_title('Corrélation entre le développement des arbres et leur domanialité.')\n",
    "\n",
    "fig = plt.gcf()\n",
    "fig.set_size_inches(12, 4)\n",
    "plt.yticks(rotation=0)\n",
    "plt.savefig('graphs/Développement_domanialité_corr.png')"
   ]
  },
  {
   "cell_type": "markdown",
   "id": "amazing-mechanism",
   "metadata": {},
   "source": [
    "## Domanialité vs espèces"
   ]
  },
  {
   "cell_type": "code",
   "execution_count": 11,
   "id": "round-garden",
   "metadata": {},
   "outputs": [
    {
     "data": {
      "image/png": "[encoded data removed]",
      "text/plain": [
       "<Figure size 864x288 with 1 Axes>"
      ]
     },
     "metadata": {
      "needs_background": "light"
     },
     "output_type": "display_data"
    }
   ],
   "source": [
    "# Repartition totale des espèces\n",
    "\n",
    "temp = df.groupby(by = 'genre').count()['id'].sort_values(ascending = False)[:15]\n",
    "most_trees = temp.index.to_list()\n",
    "plot = sns.barplot(x = temp.index, y = temp.values)\n",
    "plot.set(title=\"Répartition totale des espèces d'arbres\")\n",
    "\n",
    "plt.xticks(rotation=70)\n",
    "fig = plt.gcf()\n",
    "fig.set_size_inches(12, 4)\n",
    "plt.savefig('graphs/genre_répartition.png')"
   ]
  },
  {
   "cell_type": "code",
   "execution_count": 12,
   "id": "through-trunk",
   "metadata": {},
   "outputs": [
    {
     "data": {
      "image/png": "[encoded data removed]",
      "text/plain": [
       "<Figure size 864x288 with 1 Axes>"
      ]
     },
     "metadata": {
      "needs_background": "light"
     },
     "output_type": "display_data"
    }
   ],
   "source": [
    "# Répartition des alignements\n",
    "\n",
    "temp = align.groupby(by = 'genre').count()['id'].sort_values(ascending = False)[:15]\n",
    "plot = sns.barplot(x = temp.index, y = temp.values)\n",
    "plot.set(title=\"Répartition des espèces d'arbres d'alignement\")\n",
    "\n",
    "plt.xticks(rotation=70)\n",
    "fig = plt.gcf()\n",
    "fig.set_size_inches(12, 4)\n",
    "plt.savefig('graphs/alignement_genre_répartition.png')"
   ]
  },
  {
   "cell_type": "code",
   "execution_count": 13,
   "id": "photographic-dominican",
   "metadata": {},
   "outputs": [
    {
     "data": {
      "image/png": "[encoded data removed]",
      "text/plain": [
       "<Figure size 864x288 with 1 Axes>"
      ]
     },
     "metadata": {
      "needs_background": "light"
     },
     "output_type": "display_data"
    }
   ],
   "source": [
    "# Répartition des jardins\n",
    "\n",
    "temp = jardin.groupby(by = 'genre').count()['id'].sort_values(ascending = False)[:15]\n",
    "plot = sns.barplot(x = temp.index, y = temp.values)\n",
    "plot.set(title=\"Répartition des espèces d'arbres de jardin\")\n",
    "\n",
    "plt.xticks(rotation=70)\n",
    "fig = plt.gcf()\n",
    "fig.set_size_inches(12, 4)\n",
    "plt.savefig('graphs/jardin_genre_répartition.png')"
   ]
  },
  {
   "cell_type": "code",
   "execution_count": 14,
   "id": "diagnostic-offer",
   "metadata": {},
   "outputs": [
    {
     "data": {
      "image/png": "[encoded data removed]",
      "text/plain": [
       "<Figure size 864x288 with 1 Axes>"
      ]
     },
     "metadata": {
      "needs_background": "light"
     },
     "output_type": "display_data"
    }
   ],
   "source": [
    "# Répartition des cimetières\n",
    "\n",
    "temp = cimetiere.groupby(by = 'genre').count()['id'].sort_values(ascending = False)[:15]\n",
    "plot = sns.barplot(x = temp.index, y = temp.values)\n",
    "plot.set_title('Répartition des espèces des arbres de cimetière.')\n",
    "\n",
    "plt.xticks(rotation=70)\n",
    "fig = plt.gcf()\n",
    "fig.set_size_inches(12, 4)\n",
    "plt.savefig('graphs/cimetière_genre_répartition.png')"
   ]
  },
  {
   "cell_type": "code",
   "execution_count": null,
   "id": "historic-festival",
   "metadata": {},
   "outputs": [],
   "source": []
  }
 ],
 "metadata": {
  "kernelspec": {
   "display_name": "Python 3",
   "language": "python",
   "name": "python3"
  },
  "language_info": {
   "codemirror_mode": {
    "name": "ipython",
    "version": 3
   },
   "file_extension": ".py",
   "mimetype": "text/x-python",
   "name": "python",
   "nbconvert_exporter": "python",
   "pygments_lexer": "ipython3",
   "version": "3.8.5"
  }
 },
 "nbformat": 4,
 "nbformat_minor": 5
}
