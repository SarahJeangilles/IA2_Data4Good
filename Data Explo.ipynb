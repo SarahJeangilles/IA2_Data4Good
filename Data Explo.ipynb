{
 "cells": [
  {
   "cell_type": "code",
   "execution_count": 2,
   "id": "uniform-tampa",
   "metadata": {},
   "outputs": [],
   "source": [
    "import pandas as pd\n",
    "import seaborn as sns\n",
    "import matplotlib.pyplot as plt\n",
    "\n",
    "DATA_PATH = 'data/'\n",
    "\n",
    "data = pd.read_csv(DATA_PATH + 'p2-arbres-fr.csv', sep=';')"
   ]
  },
  {
   "cell_type": "code",
   "execution_count": 3,
   "id": "healthy-drain",
   "metadata": {},
   "outputs": [],
   "source": [
    "# Variables redondantes et presque vides\n",
    "# On garde genre plutot que libelle car il y a plus de données et moins de modalités\n",
    "\n",
    "var_inutiles = ['lieu', 'id_emplacement', 'type_emplacement']\n",
    "var_vides = ['complement_addresse', 'numero', 'espece', 'variete', 'libelle_francais']\n",
    "var_drop = var_inutiles + var_vides\n",
    "\n",
    "df = data.drop(var_drop, axis=1)\n",
    "df['remarquable'] = df.remarquable.isna()"
   ]
  },
  {
   "cell_type": "code",
   "execution_count": 36,
   "id": "thirty-neutral",
   "metadata": {},
   "outputs": [],
   "source": [
    "# Extraction de datasets\n",
    "from sklearn.preprocessing import OneHotEncoder\n",
    "\n",
    "# Coordonnées \n",
    "data_geo = df[['geo_point_2d_a', 'geo_point_2d_b']]\n",
    "\n",
    "# Dominalité\n",
    "dom_list = ['Alignement', 'Jardin', 'CIMETIERE']\n",
    "\n",
    "temp = df[df['circonference_cm'] < 600]\n",
    "temp = temp[temp['hauteur_m'] < 200]\n",
    "temp = temp[temp.domanialite.isin(dom_list)]\n",
    "\n",
    "new_name = {0: 'Alignement',\n",
    "         1: 'CIMETIERE', \n",
    "         2: 'Jardin'}\n",
    "\n",
    "dom = temp[['circonference_cm', 'hauteur_m', 'domanialite']].dropna()\n",
    "encoder = OneHotEncoder(handle_unknown='ignore')\n",
    "encoder_dom = pd.DataFrame(encoder.fit_transform(dom[['domanialite']]).toarray())\n",
    "final_dom = dom.join(encoder_dom)\n",
    "final_dom.rename(columns = new_name, inplace = True)\n",
    "\n",
    "# Age de l'arbre\n",
    "temp = df[df['circonference_cm'] < 600]\n",
    "temp = temp[temp['hauteur_m'] < 200]\n",
    "dev = temp[['circonference_cm', 'hauteur_m', 'stade_developpement']].dropna()\n",
    "\n",
    "dev['A'] = dev['stade_developpement'] == 'A'\n",
    "dev['J'] = dev['stade_developpement'] == 'J'\n",
    "dev['M'] = dev['stade_developpement'] == 'M'\n",
    "dev['JA'] = dev['stade_developpement'] == 'JA'"
   ]
  },
  {
   "cell_type": "code",
   "execution_count": 51,
   "id": "fancy-wilderness",
   "metadata": {},
   "outputs": [],
   "source": [
    "temp = df[df['circonference_cm'] < 600]\n",
    "temp = temp[temp['hauteur_m'] < 200]\n",
    "full = temp[['stade_developpement', 'domanialite']].dropna()\n",
    "\n",
    "full['A'] = full['stade_developpement'] == 'A'\n",
    "full['J'] = full['stade_developpement'] == 'J'\n",
    "full['M'] = full['stade_developpement'] == 'M'\n",
    "full['JA'] = full['stade_developpement'] == 'JA'\n",
    "full['Alignement'] = full['domanialite'] == 'Alignement'\n",
    "full['Cimetière'] = full['domanialite'] == 'CIMETIERE'\n",
    "full['Jardin'] = full['domanialite'] == 'Jardin'"
   ]
  },
  {
   "cell_type": "markdown",
   "id": "pressed-thompson",
   "metadata": {},
   "source": [
    "# Data explo\n",
    "\n",
    "## Domanialite"
   ]
  },
  {
   "cell_type": "code",
   "execution_count": 47,
   "id": "light-excitement",
   "metadata": {},
   "outputs": [
    {
     "data": {
      "text/plain": [
       "(array([0.5, 1.5, 2.5]),\n",
       " [Text(0, 0.5, 'Alignement'),\n",
       "  Text(0, 1.5, 'Jardin'),\n",
       "  Text(0, 2.5, 'CIMETIERE')])"
      ]
     },
     "execution_count": 47,
     "metadata": {},
     "output_type": "execute_result"
    },
    {
     "data": {
      "image/png": "[encoded data removed]",
      "text/plain": [
       "<Figure size 864x288 with 2 Axes>"
      ]
     },
     "metadata": {
      "needs_background": "light"
     },
     "output_type": "display_data"
    }
   ],
   "source": [
    "cr = final_dom.corr()\n",
    "final_cr = cr.loc[['Alignement', 'Jardin', 'CIMETIERE'], ['hauteur_m', 'circonference_cm']]\n",
    "sns.heatmap(final_cr, annot=True, linewidths=.7)\n",
    "\n",
    "fig = plt.gcf()\n",
    "fig.set_size_inches(12, 4)\n",
    "plt.yticks(rotation=0)"
   ]
  },
  {
   "cell_type": "markdown",
   "id": "sonic-belly",
   "metadata": {},
   "source": [
    "Correlation plus difficile à trouver avec la circonference qu'avec la hauteur.\n",
    "Il ya un vrai lien entre l'usage de l'arbre et ses caractéristiques."
   ]
  },
  {
   "cell_type": "markdown",
   "id": "controlling-credits",
   "metadata": {},
   "source": [
    "## Stade de développement"
   ]
  },
  {
   "cell_type": "code",
   "execution_count": 48,
   "id": "mexican-campbell",
   "metadata": {},
   "outputs": [
    {
     "data": {
      "text/plain": [
       "(array([0.5, 1.5, 2.5, 3.5]),\n",
       " [Text(0, 0.5, 'A'), Text(0, 1.5, 'J'), Text(0, 2.5, 'M'), Text(0, 3.5, 'JA')])"
      ]
     },
     "execution_count": 48,
     "metadata": {},
     "output_type": "execute_result"
    },
    {
     "data": {
      "image/png": "[encoded data removed]",
      "text/plain": [
       "<Figure size 864x288 with 2 Axes>"
      ]
     },
     "metadata": {
      "needs_background": "light"
     },
     "output_type": "display_data"
    }
   ],
   "source": [
    "cr = dev.corr()\n",
    "final_cr = cr.loc[['A', 'J', 'M', 'JA'], ['hauteur_m', 'circonference_cm']]\n",
    "sns.heatmap(final_cr, annot=True, linewidths=.7)\n",
    "\n",
    "fig = plt.gcf()\n",
    "fig.set_size_inches(12, 4)\n",
    "plt.yticks(rotation=0)"
   ]
  },
  {
   "cell_type": "markdown",
   "id": "returning-saver",
   "metadata": {},
   "source": [
    "## recherche "
   ]
  },
  {
   "cell_type": "code",
   "execution_count": 55,
   "id": "elect-baker",
   "metadata": {},
   "outputs": [
    {
     "data": {
      "text/plain": [
       "(array([0.5, 1.5, 2.5, 3.5]),\n",
       " [Text(0, 0.5, 'A'), Text(0, 1.5, 'J'), Text(0, 2.5, 'M'), Text(0, 3.5, 'JA')])"
      ]
     },
     "execution_count": 55,
     "metadata": {},
     "output_type": "execute_result"
    },
    {
     "data": {
      "image/png": "[encoded data removed]",
      "text/plain": [
       "<Figure size 864x288 with 2 Axes>"
      ]
     },
     "metadata": {
      "needs_background": "light"
     },
     "output_type": "display_data"
    }
   ],
   "source": [
    "cr = full.corr().loc[['A', 'J', 'M', 'JA'], ['Alignement', 'Cimetière', 'Jardin']]\n",
    "\n",
    "sns.heatmap(cr, annot=True, linewidths=.7)\n",
    "\n",
    "fig = plt.gcf()\n",
    "fig.set_size_inches(12, 4)\n",
    "plt.yticks(rotation=0)"
   ]
  },
  {
   "cell_type": "code",
   "execution_count": null,
   "id": "executive-chance",
   "metadata": {},
   "outputs": [],
   "source": []
  }
 ],
 "metadata": {
  "kernelspec": {
   "display_name": "Python 3",
   "language": "python",
   "name": "python3"
  },
  "language_info": {
   "codemirror_mode": {
    "name": "ipython",
    "version": 3
   },
   "file_extension": ".py",
   "mimetype": "text/x-python",
   "name": "python",
   "nbconvert_exporter": "python",
   "pygments_lexer": "ipython3",
   "version": "3.8.8"
  }
 },
 "nbformat": 4,
 "nbformat_minor": 5
}
